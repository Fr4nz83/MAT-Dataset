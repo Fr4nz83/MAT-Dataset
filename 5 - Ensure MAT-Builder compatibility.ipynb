{
 "cells": [
  {
   "cell_type": "code",
   "execution_count": null,
   "metadata": {},
   "outputs": [],
   "source": [
    "import geopandas as gpd\n",
    "import pandas as pd\n",
    "import numpy as np\n",
    "import datetime"
   ]
  },
  {
   "cell_type": "markdown",
   "metadata": {},
   "source": [
    "### Read the dataset"
   ]
  },
  {
   "cell_type": "code",
   "execution_count": null,
   "metadata": {},
   "outputs": [],
   "source": [
    "path_dataset_traj_nyc = './nyc_merged'\n",
    "path_dataset_traj_paris = './paris_trajectories/paris_centre.processed'\n",
    "path_dataset_traj = path_dataset_traj_paris\n",
    "\n",
    "gdf = gpd.read_parquet(path_dataset_traj + '.parquet.preprocessed.parquet')\n",
    "display(gdf)\n",
    "display(gdf.info())"
   ]
  },
  {
   "cell_type": "markdown",
   "metadata": {},
   "source": [
    "### Adjust the dataframe to MAT-Builder format"
   ]
  },
  {
   "cell_type": "code",
   "execution_count": null,
   "metadata": {},
   "outputs": [],
   "source": [
    "# Set the 'traj_id' to the ID of the associated user -- we are assuming that each user has 1 trajectory.\n",
    "gdf['traj_id'] = gdf['user']\n",
    "\n",
    "# Turn the Shapely Points in Geometry into two columns lat and lon.\n",
    "gdf['lat'], gdf['lon'] = gdf.geometry.y, gdf.geometry.x\n",
    "del gdf['geometry']\n",
    "gdf.reset_index(drop=True, inplace=True)\n",
    "\n",
    "display(gdf)\n",
    "display(gdf.info())"
   ]
  },
  {
   "cell_type": "markdown",
   "metadata": {},
   "source": [
    "### Write the final dataframe to disk"
   ]
  },
  {
   "cell_type": "code",
   "execution_count": null,
   "metadata": {},
   "outputs": [],
   "source": [
    "# Write the final dataframe to disk.\n",
    "gdf.to_parquet(path_dataset_traj + '.final.matbuilder.parquet')"
   ]
  }
 ],
 "metadata": {
  "kernelspec": {
   "display_name": "Python 3 (ipykernel)",
   "language": "python",
   "name": "python3"
  },
  "language_info": {
   "codemirror_mode": {
    "name": "ipython",
    "version": 3
   },
   "file_extension": ".py",
   "mimetype": "text/x-python",
   "name": "python",
   "nbconvert_exporter": "python",
   "pygments_lexer": "ipython3",
   "version": "3.12.9"
  }
 },
 "nbformat": 4,
 "nbformat_minor": 4
}

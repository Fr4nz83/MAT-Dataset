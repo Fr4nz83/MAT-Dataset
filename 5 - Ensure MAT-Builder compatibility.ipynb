{
 "cells": [
  {
   "cell_type": "code",
   "execution_count": null,
   "metadata": {},
   "outputs": [],
   "source": [
    "import geopandas as gpd\n",
    "import pandas as pd\n",
    "import numpy as np\n",
    "import datetime"
   ]
  },
  {
   "cell_type": "code",
   "execution_count": null,
   "metadata": {},
   "outputs": [],
   "source": [
    "fname_dftraj = 'nyc_centre_trajs.final.parquet'"
   ]
  },
  {
   "cell_type": "code",
   "execution_count": null,
   "metadata": {},
   "outputs": [],
   "source": [
    "gdf = gpd.read_parquet(fname_dftraj)\n",
    "display(gdf)\n",
    "display(gdf.info())\n",
    "\n",
    "# Ensure that in 'traj_id' we have a unique ID for each trajectory, regardless of the user it belongs to.\n",
    "gdf['traj_id'] = gdf.groupby(['user', 'traj_id'], observed=True).ngroup().astype('category')\n",
    "\n",
    "# Turn the Shapely Points in Geometry into two columns lat and lon.\n",
    "gdf['lat'], gdf['lon'] = gdf.geometry.y, gdf.geometry.x\n",
    "del gdf['geometry']\n",
    "gdf.reset_index(drop=True, inplace=True)\n",
    "display(gdf)\n",
    "display(gdf.info())\n",
    "\n",
    "gdf.to_parquet('nyc_centre_trajs_matbuilder.final.parquet')"
   ]
  }
 ],
 "metadata": {
  "kernelspec": {
   "display_name": "Python 3 (ipykernel)",
   "language": "python",
   "name": "python3"
  },
  "language_info": {
   "codemirror_mode": {
    "name": "ipython",
    "version": 3
   },
   "file_extension": ".py",
   "mimetype": "text/x-python",
   "name": "python",
   "nbconvert_exporter": "python",
   "pygments_lexer": "ipython3",
   "version": "3.12.9"
  }
 },
 "nbformat": 4,
 "nbformat_minor": 4
}

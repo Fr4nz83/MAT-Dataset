{
 "cells": [
  {
   "cell_type": "code",
   "execution_count": null,
   "metadata": {},
   "outputs": [],
   "source": [
    "import geopandas as gpd\n",
    "import pandas as pd\n",
    "import numpy as np\n",
    "import datetime"
   ]
  },
  {
   "cell_type": "code",
   "execution_count": null,
   "metadata": {},
   "outputs": [],
   "source": [
    "path_dataset_traj = './data/trajectories/NYC/nyc_merged'"
   ]
  },
  {
   "cell_type": "markdown",
   "metadata": {},
   "source": [
    "### Adjust the dataframe to MAT-Builder format"
   ]
  },
  {
   "cell_type": "code",
   "execution_count": null,
   "metadata": {},
   "outputs": [],
   "source": [
    "gdf = gpd.read_parquet(path_dataset_traj + '.final.parquet')\n",
    "display(gdf)\n",
    "display(gdf.info())\n",
    "\n",
    "# Ensure that in 'traj_id' we have a unique ID for each trajectory, regardless of the user it belongs to.\n",
    "gdf['traj_id'] = gdf.groupby(['user', 'traj_id'], observed=True).ngroup().astype('category')\n",
    "\n",
    "# Turn the Shapely Points in Geometry into two columns lat and lon.\n",
    "gdf['lat'], gdf['lon'] = gdf.geometry.y, gdf.geometry.x\n",
    "del gdf['geometry']\n",
    "gdf.reset_index(drop=True, inplace=True)\n",
    "\n",
    "display(gdf)\n",
    "display(gdf.info())"
   ]
  },
  {
   "cell_type": "markdown",
   "metadata": {},
   "source": [
    "### (Optional, but VERY useful with huge datasets) Select the trajectories with a minimum temporal length"
   ]
  },
  {
   "cell_type": "raw",
   "metadata": {},
   "source": [
    "# Find the time intervals spanned by single trajectories.\n",
    "span_time_traj = gdf.groupby('traj_id', observed = True)['time'].agg(np.ptp) # ptp returns range of values (maximum - minimum) along an axis.\n",
    "\n",
    "# Filter trajectories that do not cover enough time.\n",
    "tempo = pd.Timedelta(minutes=10)\n",
    "print(f\"Number of trajectories that last more than {tempo}: {(span_time_traj > tempo).sum()}\")\n",
    "list_long_trajs = span_time_traj.loc[span_time_traj > tempo].index.tolist()\n",
    "gdf = gdf.loc[gdf['traj_id'].isin(list_long_trajs)].reset_index(drop=True)\n",
    "\n",
    "display(gdf.info())\n",
    "display(gdf)"
   ]
  },
  {
   "cell_type": "markdown",
   "metadata": {},
   "source": [
    "### Write the final dataframe to disk"
   ]
  },
  {
   "cell_type": "code",
   "execution_count": null,
   "metadata": {},
   "outputs": [],
   "source": [
    "# Write the final dataframe to disk.\n",
    "gdf.to_parquet(path_dataset_traj + 'final.matbuilder.parquet')"
   ]
  }
 ],
 "metadata": {
  "kernelspec": {
   "display_name": "Python 3 (ipykernel)",
   "language": "python",
   "name": "python3"
  },
  "language_info": {
   "codemirror_mode": {
    "name": "ipython",
    "version": 3
   },
   "file_extension": ".py",
   "mimetype": "text/x-python",
   "name": "python",
   "nbconvert_exporter": "python",
   "pygments_lexer": "ipython3",
   "version": "3.12.9"
  }
 },
 "nbformat": 4,
 "nbformat_minor": 4
}

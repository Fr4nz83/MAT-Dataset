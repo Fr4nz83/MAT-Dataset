{
 "cells": [
  {
   "cell_type": "code",
   "execution_count": null,
   "id": "c24ecc88",
   "metadata": {},
   "outputs": [],
   "source": [
    "import pandas as pd\n",
    "import numpy as np"
   ]
  },
  {
   "cell_type": "markdown",
   "id": "5a8f87a2-5c32-438a-883e-e7d372c8e56f",
   "metadata": {},
   "source": [
    "# Download daily weather information from Meteostat\n",
    "\n",
    "NOTE: please, insert the identifier of the desired station. Identifiers can be found at https://meteostat.net/.\n",
    "\n",
    "EXAMPLE: if we want to download historical daily data concerning the city of Paris, we can access the station with ID 07156,\n",
    "         which corresponds to the Paris-Montsouris weather station."
   ]
  },
  {
   "cell_type": "code",
   "execution_count": null,
   "id": "2abb0e4d-32ac-44c2-a023-a73ebd3db549",
   "metadata": {},
   "outputs": [],
   "source": [
    "# These are the columns expected to be found in a Meteostat daily weather CSV:\n",
    "#\n",
    "# 1\tdate\tThe date string (format: YYYY-MM-DD)\tString\n",
    "# 2\ttavg\tThe average air temperature in °C\tFloat\n",
    "# 3\ttmin\tThe minimum air temperature in °C\tFloat\n",
    "# 4\ttmax\tThe maximum air temperature in °C\tFloat\n",
    "# 5\tprcp\tThe daily precipitation total in mm\tFloat\n",
    "# 6\tsnow\tThe maximum snow depth in mm\tInteger\n",
    "# 7\twdir\tThe average wind direction in degrees (°)\tInteger\n",
    "# 8\twspd\tThe average wind speed in km/h\tFloat\n",
    "# 9\twpgt\tThe peak wind gust in km/h\tFloat\n",
    "# 10 pres\tThe average sea-level air pressure in hPa\tFloat\n",
    "# 11 tsun\tThe daily sunshine total in minutes (m)\tInteger\n",
    "#\n",
    "# More info on the daily endpoint: https://dev.meteostat.net/bulk/daily.html#endpoints\n",
    "# More info on the data formats used in the CSVs: https://dev.meteostat.net/formats.html\n",
    "list_columns = ['date', 'tavg', 'tmin', 'tmax', 'prcp', 'snow', 'wdir', 'wspd', 'wpgt', 'pres', 'tsun']\n",
    "\n",
    "\n",
    "# Identifier of the station of interest.\n",
    "dic_stations = {}\n",
    "dic_stations[\"Paris Le Bourget\"] = {'ID' : '07150', 'name' : 'Paris'}\n",
    "dic_stations[\"Paris Charles de Gaulle\"] = {'ID' : '07157', 'name' : 'Paris'}\n",
    "dic_stations[\"New York John F. Kennedy Airport\"] = {'ID': '74486', 'name': \"New York\"}\n",
    "\n",
    "\n",
    "station = dic_stations[\"New York John F. Kennedy Airport\"]\n",
    "name_file_output = name_file_output = \"weather_ny.parquet\""
   ]
  },
  {
   "cell_type": "code",
   "execution_count": null,
   "id": "64d97750-1288-4da2-aace-0f899b3ad24c",
   "metadata": {},
   "outputs": [],
   "source": [
    "meteo = pd.read_csv(f\"https://bulk.meteostat.net/v2/daily/{station['ID']}.csv.gz\", names = list_columns)\n",
    "display(meteo.info())\n",
    "display(meteo)"
   ]
  },
  {
   "cell_type": "markdown",
   "id": "e1c22f3b-fe22-41ab-8864-7898207456d4",
   "metadata": {},
   "source": [
    "### Remove weather records that occur before a given cutoff_date"
   ]
  },
  {
   "cell_type": "code",
   "execution_count": null,
   "id": "6f083c7e-d386-457c-9a85-15640f7d9422",
   "metadata": {},
   "outputs": [],
   "source": [
    "cutoff_date = '1990-01-01'\n",
    "meteo = meteo.loc[(meteo['date'] >= cutoff_date), :]\n",
    "display(meteo)\n",
    "display(meteo.info())"
   ]
  },
  {
   "cell_type": "markdown",
   "id": "8df9cd06-5942-402b-96a5-edc28c5dae9f",
   "metadata": {},
   "source": [
    "### Select the columns of interest"
   ]
  },
  {
   "cell_type": "code",
   "execution_count": null,
   "id": "d0c8bf31",
   "metadata": {},
   "outputs": [],
   "source": [
    "meteo = meteo.loc[:, ['date', 'tavg', 'prcp']] # Select the columns of interest.\n",
    "meteo['tavg'] = meteo['tavg'].interpolate() # Interpolate the avg temperature when it's missing.\n",
    "meteo['prcp'] = meteo['prcp'].fillna(0) # Assume it didn't rain when the precipitation value is missing.\n",
    "\n",
    "display(meteo.info())\n",
    "display(meteo)"
   ]
  },
  {
   "cell_type": "markdown",
   "id": "5d9dab66-9adc-4356-9399-2fe449468b1e",
   "metadata": {},
   "source": [
    "### Determine the overall weather conditions based on the precipitation (in mm) that has fallen in a given day"
   ]
  },
  {
   "cell_type": "code",
   "execution_count": null,
   "id": "8e10c616",
   "metadata": {},
   "outputs": [],
   "source": [
    "meteo['conditions'] = 'violent rain'\n",
    "meteo.loc[:, 'conditions'] = 'heavy rain'\n",
    "meteo.loc[meteo['prcp'] < 7.6, 'conditions'] = 'moderate rain'\n",
    "meteo.loc[meteo['prcp'] < 2.5, 'conditions'] = 'light rain'\n",
    "meteo.loc[meteo['prcp'] == 0, 'conditions'] = 'sunny'\n",
    "\n",
    "display(meteo['conditions'].value_counts())\n",
    "display(meteo.info())\n",
    "display(meteo)"
   ]
  },
  {
   "cell_type": "markdown",
   "id": "82031f6c-3492-490a-8464-7f11a8860bea",
   "metadata": {},
   "source": [
    "### Prepare the processed dataframe for storage"
   ]
  },
  {
   "cell_type": "code",
   "execution_count": null,
   "id": "a6f2776b",
   "metadata": {},
   "outputs": [],
   "source": [
    "meteo.drop(columns = 'prcp', inplace = True)\n",
    "meteo.rename(columns = {'date' : 'DATE', 'tavg' : 'TAVG_C', 'conditions' : 'DESCRIPTION'}, inplace = True)\n",
    "meteo.reset_index(drop = True, inplace = True)\n",
    "display(meteo.info())\n",
    "display(meteo)\n",
    "\n",
    "meteo.to_parquet(name_file_output)"
   ]
  }
 ],
 "metadata": {
  "kernelspec": {
   "display_name": "Python 3 (ipykernel)",
   "language": "python",
   "name": "python3"
  },
  "language_info": {
   "codemirror_mode": {
    "name": "ipython",
    "version": 3
   },
   "file_extension": ".py",
   "mimetype": "text/x-python",
   "name": "python",
   "nbconvert_exporter": "python",
   "pygments_lexer": "ipython3",
   "version": "3.12.9"
  }
 },
 "nbformat": 4,
 "nbformat_minor": 5
}

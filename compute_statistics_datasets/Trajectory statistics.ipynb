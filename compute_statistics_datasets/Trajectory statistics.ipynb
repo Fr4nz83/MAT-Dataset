{
 "cells": [
  {
   "cell_type": "code",
   "execution_count": null,
   "id": "7f929706-68f4-4c8a-b524-a705d6de2b51",
   "metadata": {},
   "outputs": [],
   "source": [
    "import pandas as pd\n",
    "import numpy as np"
   ]
  },
  {
   "cell_type": "code",
   "execution_count": null,
   "id": "8872ef90-7486-46e0-a98f-8a60d9895e8d",
   "metadata": {},
   "outputs": [],
   "source": [
    "path_paris = './paris/traj_cleaned.parquet'\n",
    "paris_trajs = pd.read_parquet(path_paris)\n",
    "\n",
    "path_nyc = './nyc/traj_cleaned.parquet'\n",
    "nyc_trajs = pd.read_parquet(path_nyc)"
   ]
  },
  {
   "cell_type": "code",
   "execution_count": null,
   "id": "f2e6fcfe-e982-4faf-8f9f-434d2d4e76f5",
   "metadata": {},
   "outputs": [],
   "source": [
    "duration_trajs_paris = paris_trajs.groupby(['uid','tid']).agg({'datetime': ['min','max']})\n",
    "duration_trajs_paris['duration'] = duration_trajs_paris[('datetime','max')] - duration_trajs_paris[('datetime','min')]\n",
    "duration_trajs_paris['duration_mins'] = duration_trajs_paris['duration'].dt.total_seconds() / 60\n",
    "duration_trajs_paris"
   ]
  },
  {
   "cell_type": "code",
   "execution_count": null,
   "id": "53822ae1-13b1-47ad-b268-312f2ed1b651",
   "metadata": {},
   "outputs": [],
   "source": [
    "duration_trajs_nyc = nyc_trajs.groupby(['uid','tid']).agg({'datetime': ['min','max']})\n",
    "duration_trajs_nyc['duration'] = duration_trajs_nyc[('datetime','max')] - duration_trajs_nyc[('datetime','min')]\n",
    "duration_trajs_nyc['duration_mins'] = duration_trajs_nyc['duration'].dt.total_seconds() / 60\n",
    "duration_trajs_nyc"
   ]
  },
  {
   "cell_type": "code",
   "execution_count": null,
   "id": "2a1446c6-feed-4836-9791-e577183bf991",
   "metadata": {},
   "outputs": [],
   "source": [
    "import matplotlib.pyplot as plt\n",
    "\n",
    "plt.figure(figsize=(8, 4))\n",
    "\n",
    "# Adjust the sizes of the text used in the plot.\n",
    "plt.rcParams.update({\n",
    "    'font.size': 12,        # Base font size.\n",
    "    'axes.titlesize': 14,   # Size font title.\n",
    "})\n",
    "\n",
    "\n",
    "paris = duration_trajs_paris['duration_mins']\n",
    "nyc   = duration_trajs_nyc  ['duration_mins']\n",
    "\n",
    "# Compute a common min/max interval.\n",
    "min_d = min(paris.min(), nyc.min())\n",
    "max_d = max(paris.max(), nyc.max())\n",
    "\n",
    "# Choose a common binning (e.g. 20 bins spanning the full range)\n",
    "bins = 30\n",
    "bin_edges = np.linspace(min_d, max_d, bins + 1)\n",
    "\n",
    "# Paris histogram\n",
    "plt.hist(paris,\n",
    "         bins=bin_edges,\n",
    "         alpha=1,\n",
    "         density=True,\n",
    "         label='Paris',\n",
    "         color='orange')\n",
    "\n",
    "# NYC histogram\n",
    "plt.hist(nyc,\n",
    "         bins=bin_edges,\n",
    "         alpha=0.3,            # semi-transparent\n",
    "         density=True,\n",
    "         label='New York City',\n",
    "         color='white',           # Keep the fill white\n",
    "         edgecolor='black',\n",
    "         hatch='xxx',)         # user-requested different colors\n",
    "\n",
    "plt.axvline(24 * 60,\n",
    "            color='blue',\n",
    "            linestyle='--',\n",
    "            linewidth=1.5,\n",
    "            label='1 day duration')\n",
    "\n",
    "plt.axvline(7 * 24 * 60,\n",
    "            color='blue',\n",
    "            linestyle=':',\n",
    "            linewidth=1.5,\n",
    "            label='1 week duration')\n",
    "\n",
    "# Log-scale on the y-axis\n",
    "plt.yscale('log')\n",
    "plt.xlim(left=0)\n",
    "\n",
    "plt.xlabel('Trajectory duration (minutes)')\n",
    "plt.ylabel('Fraction of trajectories (log scale)')\n",
    "plt.title(f'Trajectory duration distribution (#bins = {bins})')\n",
    "plt.legend()\n",
    "# plt.show()\n",
    "\n",
    "plt.savefig('trajectory_duration_histogram.pdf',\n",
    "            format='pdf',\n",
    "            bbox_inches='tight')  # trims extra whitespace"
   ]
  }
 ],
 "metadata": {
  "kernelspec": {
   "display_name": "Python 3 (ipykernel)",
   "language": "python",
   "name": "python3"
  },
  "language_info": {
   "codemirror_mode": {
    "name": "ipython",
    "version": 3
   },
   "file_extension": ".py",
   "mimetype": "text/x-python",
   "name": "python",
   "nbconvert_exporter": "python",
   "pygments_lexer": "ipython3",
   "version": "3.12.9"
  }
 },
 "nbformat": 4,
 "nbformat_minor": 5
}

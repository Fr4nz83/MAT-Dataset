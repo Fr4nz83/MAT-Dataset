{
 "cells": [
  {
   "cell_type": "code",
   "execution_count": null,
   "id": "126ee5ab-9c30-4db4-9f0c-e2673b7fa561",
   "metadata": {},
   "outputs": [],
   "source": [
    "import pandas as pd\n",
    "import geopandas as gpd\n",
    "import numpy as np"
   ]
  },
  {
   "cell_type": "markdown",
   "id": "21c229af-2b29-4894-a122-9ef6de931df2",
   "metadata": {},
   "source": [
    "### Auxiliary functions"
   ]
  },
  {
   "cell_type": "code",
   "execution_count": null,
   "id": "50719740-8c67-4781-824a-b81ce03f9bc3",
   "metadata": {},
   "outputs": [],
   "source": [
    "def compute_distance_moves(df_move) :\n",
    "\n",
    "    # 1. (Re)project to metric CRS if needed\n",
    "    move_df = df_move.copy()\n",
    "    move_df = move_df.to_crs(epsg=3857)\n",
    "    \n",
    "    # 2. Sort so that shifts make sense\n",
    "    move_df = move_df.sort_values(['uid', 'tid', 'move_id', 'datetime'])\n",
    "    \n",
    "    # 3. Shift geometry\n",
    "    move_df['prev_geom'] = move_df.groupby(['uid','tid','move_id'])['geometry'].shift()\n",
    "    \n",
    "    # 4. Compute segment distances\n",
    "    move_df['segment_dist'] = move_df.geometry.distance(move_df['prev_geom'])\n",
    "    \n",
    "    # 5. Sum up per move_id\n",
    "    distance_per_move = (move_df\n",
    "                         .groupby(['uid','tid','move_id'])['segment_dist']\n",
    "                         .sum()\n",
    "                         .reset_index(name='distance_traveled_meters'))\n",
    "    \n",
    "    return(distance_per_move)"
   ]
  },
  {
   "cell_type": "markdown",
   "id": "3d7267a1-3a7f-4fb2-b135-81dd9d9cb46c",
   "metadata": {},
   "source": [
    "### Main code\n",
    "\n",
    "#### Read the enriched move segments datasets."
   ]
  },
  {
   "cell_type": "code",
   "execution_count": null,
   "id": "9e27facb-1182-43b6-a025-7ac3ed105565",
   "metadata": {},
   "outputs": [],
   "source": [
    "path_paris = './paris/'\n",
    "paris_moves = pd.read_parquet(path_paris + 'enriched_moves.parquet')\n",
    "paris_moves = gpd.GeoDataFrame(paris_moves,\n",
    "                               geometry=gpd.points_from_xy(paris_moves['lng'], paris_moves['lat']),\n",
    "                               crs=\"EPSG:4326\")\n",
    "\n",
    "path_nyc= './nyc/'\n",
    "nyc_moves = pd.read_parquet(path_nyc + 'enriched_moves.parquet')\n",
    "nyc_moves = gpd.GeoDataFrame(nyc_moves,\n",
    "                             geometry=gpd.points_from_xy(nyc_moves['lng'], nyc_moves['lat']),\n",
    "                             crs=\"EPSG:4326\")"
   ]
  },
  {
   "cell_type": "markdown",
   "id": "52411ac2-ebb0-4bde-83a3-185719c63127",
   "metadata": {},
   "source": [
    "#### Compute the distance traveled within each move segment."
   ]
  },
  {
   "cell_type": "code",
   "execution_count": null,
   "id": "ac744fee-6cf2-4d40-ad54-4211f7ff6d84",
   "metadata": {},
   "outputs": [],
   "source": [
    "distance_per_move_paris = compute_distance_moves(paris_moves)\n",
    "print(distance_per_move_paris)\n",
    "\n",
    "distance_per_move_nyc = compute_distance_moves(nyc_moves)\n",
    "print(distance_per_move_nyc)"
   ]
  },
  {
   "cell_type": "markdown",
   "id": "46e533fe-29ca-422a-b5b0-19e15f27afda",
   "metadata": {},
   "source": [
    "### Plot the histograms of the distances traveled."
   ]
  },
  {
   "cell_type": "code",
   "execution_count": null,
   "id": "b5b3c2d3-5115-40ad-817d-98b86c85dc8a",
   "metadata": {},
   "outputs": [],
   "source": [
    "import matplotlib.pyplot as plt\n",
    "\n",
    "plt.figure(figsize=(8, 4))\n",
    "\n",
    "# Adjust the sizes of the text used in the plot.\n",
    "plt.rcParams.update({\n",
    "    'font.size': 12,        # Base font size.\n",
    "    'axes.titlesize': 14,   # Size font title.\n",
    "})\n",
    "\n",
    "\n",
    "paris = distance_per_move_paris['distance_traveled_meters'] / 1000\n",
    "nyc   = distance_per_move_nyc['distance_traveled_meters'] / 1000\n",
    "\n",
    "# Compute a common min/max interval.\n",
    "min_d = min(paris.min(), nyc.min())\n",
    "max_d = max(paris.max(), nyc.max())\n",
    "\n",
    "# Choose a common binning (e.g. 20 bins spanning the full range)\n",
    "bins = 30\n",
    "bin_edges = np.linspace(min_d, max_d, bins + 1)\n",
    "\n",
    "# Paris histogram\n",
    "plt.hist(paris,\n",
    "         bins=bin_edges,\n",
    "         alpha=1,\n",
    "         density=True,\n",
    "         label='Paris',\n",
    "         color='orange')\n",
    "\n",
    "# NYC histogram\n",
    "plt.hist(nyc,\n",
    "         bins=bin_edges,\n",
    "         alpha=0.5,            # semi-transparent\n",
    "         density=True,\n",
    "         label='New York City',\n",
    "         color='white',           # Keep the fill white\n",
    "         edgecolor='black',\n",
    "         hatch='xxx',)            # Try '///', 'xxx', '...' or other patterns)\n",
    "\n",
    "\n",
    "plt.axvline(paris.mean(),\n",
    "            color='blue',\n",
    "            linestyle='--',\n",
    "            linewidth=1.5,\n",
    "            label=f\"Avg. distance Paris' moves (in km, {paris.mean():.2f}±{paris.std():.2f})\")\n",
    "plt.axvline(nyc.mean(),\n",
    "            color='red',\n",
    "            linestyle='--',\n",
    "            linewidth=1.5,\n",
    "            label=f\"Avg. distance NYC's moves (in km, {nyc.mean():.2f}±{nyc.std():.2f})\")\n",
    "\n",
    "\n",
    "# Log-scale on the y-axis\n",
    "plt.yscale('log')\n",
    "plt.xlim(left=0)\n",
    "\n",
    "plt.xlabel('Distance covered (in km)')\n",
    "plt.ylabel('Fraction of move segments (log scale)')\n",
    "plt.title(f'Distribution of the distance covered by move segments (#bins = {bins})')\n",
    "plt.legend()\n",
    "# plt.show()\n",
    "\n",
    "plt.savefig('distance_move_segments.pdf',\n",
    "            format='pdf',\n",
    "            bbox_inches='tight')  # trims extra whitespace"
   ]
  },
  {
   "cell_type": "markdown",
   "id": "37fa9528-07de-4e98-b98b-7b0ee4f6ff31",
   "metadata": {},
   "source": [
    "### Transportation means statistics"
   ]
  },
  {
   "cell_type": "code",
   "execution_count": null,
   "id": "8bd11e1f-089b-4d49-aa9b-69a3051a0482",
   "metadata": {},
   "outputs": [],
   "source": [
    "dic_moves = {0 : 'walk',\n",
    "                  1 : 'bike',\n",
    "                  2 : 'bus',\n",
    "                  3 : 'car',\n",
    "                  4 : 'subway',\n",
    "                  5 : 'train',\n",
    "                  6 : 'taxi'}\n",
    "\n",
    "trans_stats_paris = paris_moves.groupby(['uid', 'tid', 'move_id', 'label']).size().reset_index().iloc[:, :-1]\n",
    "trans_stats_paris['label'] = trans_stats_paris['label'].astype(int).map(dic_moves)\n",
    "trans_stats_paris = trans_stats_paris.groupby('label').size()\n",
    "display(trans_stats_paris)\n",
    "\n",
    "trans_stats_nyc = nyc_moves.groupby(['uid', 'tid', 'move_id', 'label']).size().reset_index().iloc[:, :-1]\n",
    "trans_stats_nyc['label'] = trans_stats_nyc['label'].astype(int).map(dic_moves)\n",
    "trans_stats_nyc = trans_stats_nyc.groupby('label').size()\n",
    "display(trans_stats_nyc)"
   ]
  },
  {
   "cell_type": "code",
   "execution_count": null,
   "id": "7ec7788e-d4ce-4a96-a46f-8d25c88d080b",
   "metadata": {},
   "outputs": [],
   "source": [
    "trans_stats_paris /= trans_stats_paris.sum()\n",
    "trans_stats_nyc /= trans_stats_nyc.sum()\n",
    "\n",
    "# combine into one DataFrame\n",
    "df = pd.concat([trans_stats_paris, trans_stats_nyc], axis=1)\n",
    "df.columns = ['Paris', 'New York City']\n",
    "\n",
    "\n",
    "# Adjust the sizes of the text used in the plot.\n",
    "plt.rcParams.update({\n",
    "    'font.size': 12,        # Base font size.\n",
    "    'axes.titlesize': 14,   # Size font title.\n",
    "})\n",
    "\n",
    "# plot — pandas will draw grouped bars by default\n",
    "ax = df.plot(\n",
    "    kind='bar',\n",
    "    figsize=(8, 4),\n",
    "    alpha=0.7\n",
    ")\n",
    "\n",
    "# Rotate the x-axis ticks' labels appropriately.\n",
    "ax.set_xticklabels(\n",
    "    df.index,                   # your category labels\n",
    "    rotation=45,                # still rotate 45°\n",
    "    ha='right',                 # anchor text’s right end at the tick\n",
    "    rotation_mode='anchor'      # rotate around that anchor point\n",
    ")\n",
    "\n",
    "ax.set_title(f\"Distribution transportation means for Paris and New York City\")\n",
    "ax.set_xlabel('Transportation means')\n",
    "ax.set_ylabel('Fraction')\n",
    "ax.legend()\n",
    "plt.tight_layout()\n",
    "\n",
    "# plt.show()\n",
    "\n",
    "plt.savefig('transportation_moves.pdf',\n",
    "            format='pdf',\n",
    "            bbox_inches='tight')  # trims extra whitespace"
   ]
  }
 ],
 "metadata": {
  "kernelspec": {
   "display_name": "Python 3 (ipykernel)",
   "language": "python",
   "name": "python3"
  },
  "language_info": {
   "codemirror_mode": {
    "name": "ipython",
    "version": 3
   },
   "file_extension": ".py",
   "mimetype": "text/x-python",
   "name": "python",
   "nbconvert_exporter": "python",
   "pygments_lexer": "ipython3",
   "version": "3.12.9"
  }
 },
 "nbformat": 4,
 "nbformat_minor": 5
}

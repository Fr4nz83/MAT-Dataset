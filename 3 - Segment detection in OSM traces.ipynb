{
 "cells": [
  {
   "cell_type": "code",
   "execution_count": null,
   "id": "27551899-42f4-4d2c-b31d-2c657035fe01",
   "metadata": {},
   "outputs": [],
   "source": [
    "import geopandas as gpd\n",
    "import pandas as pd\n",
    "from datetime import date\n",
    "import numpy as np\n",
    "import os"
   ]
  },
  {
   "cell_type": "code",
   "execution_count": null,
   "id": "c9656ade-fa96-4c85-a349-ca985169a84a",
   "metadata": {},
   "outputs": [],
   "source": [
    "# Setup a few filenames.\n",
    "gpx_path = './Traiettorie Parigi'\n",
    "gpx_name = 'paris_centre'\n",
    "\n",
    "traj_filename = os.path.join(gpx_path, gpx_name + '.processed.parquet')\n",
    "final_traj_filename = os.path.join(gpx_path, gpx_name + '.final.processed.parquet')"
   ]
  },
  {
   "cell_type": "markdown",
   "id": "47ad422b-3771-47e1-9f4a-b0541ef55173",
   "metadata": {},
   "source": [
    "### Segment detection from traces"
   ]
  },
  {
   "cell_type": "code",
   "execution_count": null,
   "id": "7664f669-6757-4656-9377-c4ef97dd18f2",
   "metadata": {},
   "outputs": [],
   "source": [
    "traj_df = gpd.read_parquet(traj_filename)\n",
    "traj_df.info()"
   ]
  },
  {
   "cell_type": "code",
   "execution_count": null,
   "id": "ef042306-bb13-44a1-8228-4055addb94c6",
   "metadata": {},
   "outputs": [],
   "source": [
    "# Define the gap threshold to determine when we have distinct segments in a trace.\n",
    "threshold = pd.Timedelta(minutes=20)\n",
    "\n",
    "# Sort the rows by uid and timestamp.\n",
    "traj_df.sort_values(by=['user', 'time'], inplace = True)\n",
    "traj_df['time_diff'] = traj_df.groupby('user', observed = True)['time'].diff()\n",
    "\n",
    "# Mark the start of a new trajectory if the gap is larger or equal than the threshold\n",
    "traj_df['new_trajectory'] = traj_df['time_diff'] >= threshold\n",
    "\n",
    "# For each uid, assign a trajectory id using cumulative sum over new trajectory flags\n",
    "traj_df['traj_id'] = traj_df.groupby('user', observed = True)['new_trajectory'].cumsum().astype(np.int32)\n",
    "\n",
    "# Drop the columns used to detect the trajectories\n",
    "traj_df = traj_df.loc[:, ['time', 'geometry', 'user', 'traj_id']]\n",
    "traj_df.info()"
   ]
  },
  {
   "cell_type": "code",
   "execution_count": null,
   "id": "7832e04c-27e1-44fb-8985-9c5101d7fefd",
   "metadata": {},
   "outputs": [],
   "source": [
    "traj_df.to_parquet(final_traj_filename)\n",
    "# traj_df = gpd.read_parquet(final_traj_filename)"
   ]
  },
  {
   "cell_type": "markdown",
   "id": "ec9f6310-a092-4fd0-b819-98fdef713ec0",
   "metadata": {},
   "source": [
    "### Compute some basic statistics about users and trajectories (optional)"
   ]
  },
  {
   "cell_type": "code",
   "execution_count": null,
   "id": "bb271a5f-ebb6-40ac-a6d9-b7a05b144a8e",
   "metadata": {},
   "outputs": [],
   "source": [
    "stats_trajs_uid = traj_df.groupby('user', observed = True)['traj_id'].max() + 1\n",
    "\n",
    "print(f\"Number of traces: {stats_trajs_uid.count()}\")\n",
    "print(f\"Average number of segments per trace: {stats_trajs_uid.mean()}\")\n",
    "print(f\"Maximum number of segments of a trace: {stats_trajs_uid.max()}\")\n",
    "print(f\"Statistics about the distribution segments: {stats_trajs_uid.describe()}\")\n",
    "display(stats_trajs_uid.sort_values())"
   ]
  },
  {
   "cell_type": "code",
   "execution_count": null,
   "id": "f75a8c59-bd0e-4449-a6b7-a4587eb44669",
   "metadata": {},
   "outputs": [],
   "source": [
    "# Find the time intervals spanned by single traces.\n",
    "min_time_user = traj_df.groupby('user', observed = True)['time'].min()\n",
    "max_time_user = traj_df.groupby('user', observed = True)['time'].max()\n",
    "span_time_user = max_time_user - min_time_user\n",
    "display(span_time_user.sort_values(inplace = True))\n",
    "display(span_time_user.describe())"
   ]
  },
  {
   "cell_type": "code",
   "execution_count": null,
   "id": "26987d00-c399-4a79-89be-cbf2650f7aca",
   "metadata": {},
   "outputs": [],
   "source": [
    "# Find the time intervals spanned by single segments.\n",
    "min_time_traj = traj_df.groupby(['user', 'traj_id'], observed = True)['time'].min()\n",
    "max_time_traj = traj_df.groupby(['user', 'traj_id'], observed = True)['time'].max()\n",
    "span_time_traj = max_time_traj - min_time_traj\n",
    "display(span_time_traj.sort_values(inplace = True))\n",
    "\n",
    "display(span_time_traj.describe())\n",
    "print(f\"Number of trajectories that last more than 20 minutes: {(span_time_traj > pd.Timedelta(minutes=20)).sum()}\")"
   ]
  },
  {
   "cell_type": "code",
   "execution_count": null,
   "id": "7bbb1111-9ce4-4243-b47c-ed0162f18c44",
   "metadata": {},
   "outputs": [],
   "source": [
    "# Plot some general statistics about the sampling rate of trajectories.\n",
    "traj_df[\"time_diff\"] = traj_df.groupby(['user','traj_id'], observed = True)['time'].diff()\n",
    "sampling_rate_trajs = traj_df.groupby(['user','traj_id'], observed = True)[\"time_diff\"].mean()\n",
    "del traj_df[\"time_diff\"]\n",
    "\n",
    "display(sampling_rate_trajs.describe())\n",
    "print(f\"Number of trajectories with a sampling rate less than 10 seconds: {(sampling_rate_trajs <= pd.Timedelta(seconds=10)).sum()}\")"
   ]
  },
  {
   "cell_type": "code",
   "execution_count": null,
   "id": "d6d6e5bb-ced3-4da4-b427-90c8e3ad7d33",
   "metadata": {},
   "outputs": [],
   "source": [
    "cond = (span_time_traj >= pd.Timedelta(minutes=20)) & (sampling_rate_trajs <= pd.Timedelta(seconds=10))\n",
    "print(f\"Number of trajectories that last at least 20 mins and have a sampling rate less or equal than 10 sec.: {cond.sum()}\")"
   ]
  }
 ],
 "metadata": {
  "kernelspec": {
   "display_name": "Python 3 (ipykernel)",
   "language": "python",
   "name": "python3"
  },
  "language_info": {
   "codemirror_mode": {
    "name": "ipython",
    "version": 3
   },
   "file_extension": ".py",
   "mimetype": "text/x-python",
   "name": "python",
   "nbconvert_exporter": "python",
   "pygments_lexer": "ipython3",
   "version": "3.12.9"
  }
 },
 "nbformat": 4,
 "nbformat_minor": 5
}

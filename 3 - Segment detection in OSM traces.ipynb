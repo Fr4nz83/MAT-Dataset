{
 "cells": [
  {
   "cell_type": "code",
   "execution_count": null,
   "id": "27551899-42f4-4d2c-b31d-2c657035fe01",
   "metadata": {},
   "outputs": [],
   "source": [
    "import geopandas as gpd\n",
    "import pandas as pd\n",
    "from datetime import date\n",
    "import numpy as np\n",
    "import os"
   ]
  },
  {
   "cell_type": "code",
   "execution_count": null,
   "id": "c9656ade-fa96-4c85-a349-ca985169a84a",
   "metadata": {},
   "outputs": [],
   "source": [
    "# Setup a few filenames.\n",
    "gpx_path = './Traiettorie Parigi'\n",
    "gpx_name = 'paris_centre'\n",
    "traj_filename = os.path.join(gpx_path, gpx_name + '.processed.parquet')\n",
    "\n",
    "traj_df = gpd.read_parquet(traj_filename)\n",
    "traj_df.info()"
   ]
  },
  {
   "cell_type": "markdown",
   "id": "47ad422b-3771-47e1-9f4a-b0541ef55173",
   "metadata": {},
   "source": [
    "### Segment detection from traces"
   ]
  },
  {
   "cell_type": "code",
   "execution_count": null,
   "id": "ef042306-bb13-44a1-8228-4055addb94c6",
   "metadata": {},
   "outputs": [],
   "source": [
    "# Define the gap threshold to determine when we have distinct segments in a trace.\n",
    "threshold = pd.Timedelta(minutes=20)\n",
    "\n",
    "# Sort the rows by uid and timestamp.\n",
    "traj_df.sort_values(by=['uid', 'time'], inplace = True)\n",
    "traj_df['time_diff'] = traj_df.groupby('uid', observed = True)['time'].diff()\n",
    "\n",
    "# Mark the start of a new trajectory if the gap is larger or equal than the threshold\n",
    "traj_df['new_trajectory'] = traj_df['time_diff'] >= threshold\n",
    "\n",
    "# For each uid, assign a trajectory id using cumulative sum over new trajectory flags\n",
    "traj_df['tid'] = traj_df.groupby('uid', observed = True)['new_trajectory'].cumsum().astype(np.int32)\n",
    "\n",
    "# Drop the columns used to detect the trajectories\n",
    "traj_df = traj_df.loc[:, ['time', 'geometry', 'uid', 'tid']]\n",
    "traj_df.info()"
   ]
  },
  {
   "cell_type": "code",
   "execution_count": null,
   "id": "7832e04c-27e1-44fb-8985-9c5101d7fefd",
   "metadata": {},
   "outputs": [],
   "source": [
    "traj_filename = os.path.join(gpx_path, gpx_name + '.processed.segmented.parquet')\n",
    "traj_df.to_parquet(traj_filename)"
   ]
  },
  {
   "cell_type": "markdown",
   "id": "ec9f6310-a092-4fd0-b819-98fdef713ec0",
   "metadata": {},
   "source": [
    "### Compute some basic statistics about users and trajectories"
   ]
  },
  {
   "cell_type": "code",
   "execution_count": null,
   "id": "bb271a5f-ebb6-40ac-a6d9-b7a05b144a8e",
   "metadata": {},
   "outputs": [],
   "source": [
    "stats_trajs_uid = traj_df.groupby('uid', observed = True)['tid'].max() + 1\n",
    "\n",
    "print(f\"Number of traces: {stats_trajs_uid.count()}\")\n",
    "print(f\"Average number of segments per trace: {stats_trajs_uid.mean()}\")\n",
    "print(f\"Maximum number of segments of a trace: {stats_trajs_uid.max()}\")\n",
    "print(f\"Statistics about the distribution segments: {stats_trajs_uid.describe()}\")\n",
    "display(stats_trajs_uid.sort_values())"
   ]
  },
  {
   "cell_type": "code",
   "execution_count": null,
   "id": "f75a8c59-bd0e-4449-a6b7-a4587eb44669",
   "metadata": {},
   "outputs": [],
   "source": [
    "# Find the time intervals spanned by single traces.\n",
    "min_time_user = traj_df.groupby('uid', observed = True)['time'].min()\n",
    "max_time_user = traj_df.groupby('uid', observed = True)['time'].max()\n",
    "span_time_user = max_time_user - min_time_user\n",
    "display(span_time_user.sort_values(inplace = True))\n",
    "display(span_time_user.describe())"
   ]
  },
  {
   "cell_type": "code",
   "execution_count": null,
   "id": "26987d00-c399-4a79-89be-cbf2650f7aca",
   "metadata": {},
   "outputs": [],
   "source": [
    "# Find the time intervals spanned by single segments.\n",
    "min_time_traj = traj_df.groupby(['uid', 'tid'], observed = True)['time'].min()\n",
    "max_time_traj = traj_df.groupby(['uid', 'tid'], observed = True)['time'].max()\n",
    "span_time_traj = max_time_traj - min_time_traj\n",
    "display(span_time_traj.sort_values(inplace = True))\n",
    "display(span_time_traj.describe())"
   ]
  },
  {
   "cell_type": "code",
   "execution_count": null,
   "id": "dbc9444e-37f7-4cf3-95c8-ced7d179464f",
   "metadata": {},
   "outputs": [],
   "source": [
    "# Plot the distribution of the time intervals spanned by single segments.\n",
    "# TODO."
   ]
  }
 ],
 "metadata": {
  "kernelspec": {
   "display_name": "Python 3 (ipykernel)",
   "language": "python",
   "name": "python3"
  },
  "language_info": {
   "codemirror_mode": {
    "name": "ipython",
    "version": 3
   },
   "file_extension": ".py",
   "mimetype": "text/x-python",
   "name": "python",
   "nbconvert_exporter": "python",
   "pygments_lexer": "ipython3",
   "version": "3.12.9"
  }
 },
 "nbformat": 4,
 "nbformat_minor": 5
}

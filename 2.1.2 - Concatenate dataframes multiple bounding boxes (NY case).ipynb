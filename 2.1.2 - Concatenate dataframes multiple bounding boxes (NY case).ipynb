{
 "cells": [
  {
   "cell_type": "markdown",
   "id": "55de727a-aedc-4095-9e92-6c6a6e3e8a95",
   "metadata": {},
   "source": [
    "**NOTE**: This notebook requires a lot of RAM, especially if the dataframes to concatenate are many and large!"
   ]
  },
  {
   "cell_type": "code",
   "execution_count": null,
   "id": "a85fa41e-9d34-4a2e-9149-3d616c8015cc",
   "metadata": {},
   "outputs": [],
   "source": [
    "import geopandas as gpd\n",
    "import pandas as pd\n",
    "from datetime import date\n",
    "import numpy as np\n",
    "import os"
   ]
  },
  {
   "cell_type": "code",
   "execution_count": null,
   "id": "da5552d3-4261-4a6b-a98b-c049e6cc8a9c",
   "metadata": {},
   "outputs": [],
   "source": [
    "def list_files(directory):\n",
    "    \n",
    "    # List all entries in the given directory\n",
    "    entries = os.listdir(directory)\n",
    "    \n",
    "    # Filter out entries that are files\n",
    "    return [os.path.join(directory, entry) for entry in entries if os.path.isfile(os.path.join(directory, entry))]\n",
    "    \n",
    "\n",
    "lista_files = [f for f in list_files('./') if 'parquet' in f]\n",
    "list_df_bbox = []\n",
    "for f in lista_files :\n",
    "    print(f'Reading file {f}...')\n",
    "    list_df_bbox.append(gpd.read_parquet(f))"
   ]
  },
  {
   "cell_type": "code",
   "execution_count": null,
   "id": "5e94cf87-c870-4855-b9f3-ad0902a83c41",
   "metadata": {},
   "outputs": [],
   "source": [
    "# Concatenate the dataframes of all the bounding boxes.\n",
    "mega_dataframe = pd.concat(list_df_bbox, ignore_index = True)\n",
    "\n",
    "# Ensure that the 'user' column is, in the end, still a category.\n",
    "mega_dataframe['user'] = mega_dataframe['user'].astype('category')\n",
    "\n",
    "display(mega_dataframe.info())\n",
    "display(mega_dataframe.crs)"
   ]
  },
  {
   "cell_type": "code",
   "execution_count": null,
   "id": "a4093890-da0b-4f9d-8296-edac33d83f28",
   "metadata": {},
   "outputs": [],
   "source": [
    "# Save the final dataframe to disk.\n",
    "mega_dataframe.to_parquet('./nyc_merged.parquet')"
   ]
  }
 ],
 "metadata": {
  "kernelspec": {
   "display_name": "Python 3 (ipykernel)",
   "language": "python",
   "name": "python3"
  },
  "language_info": {
   "codemirror_mode": {
    "name": "ipython",
    "version": 3
   },
   "file_extension": ".py",
   "mimetype": "text/x-python",
   "name": "python",
   "nbconvert_exporter": "python",
   "pygments_lexer": "ipython3",
   "version": "3.12.9"
  }
 },
 "nbformat": 4,
 "nbformat_minor": 5
}

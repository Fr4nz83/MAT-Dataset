{
 "cells": [
  {
   "cell_type": "code",
   "execution_count": null,
   "id": "b56fd8f6",
   "metadata": {},
   "outputs": [],
   "source": [
    "import geopandas as gpd\n",
    "import pandas as pd\n",
    "import numpy as np\n",
    "import datetime\n",
    "\n",
    "import skmob\n",
    "\n",
    "import warnings\n",
    "warnings.simplefilter(\"ignore\")"
   ]
  },
  {
   "cell_type": "markdown",
   "id": "3eab3aeb",
   "metadata": {},
   "source": [
    "#### Setup global vars"
   ]
  },
  {
   "cell_type": "code",
   "execution_count": null,
   "id": "702ae679",
   "metadata": {},
   "outputs": [],
   "source": [
    "fname = 'rome.gpx.parquet'"
   ]
  },
  {
   "cell_type": "markdown",
   "id": "642987d5",
   "metadata": {},
   "source": [
    "# Analysis part"
   ]
  },
  {
   "cell_type": "code",
   "execution_count": null,
   "id": "e0be9d01",
   "metadata": {},
   "outputs": [],
   "source": [
    "# Read the dataset.\n",
    "gdf = gpd.read_parquet(fname)"
   ]
  },
  {
   "cell_type": "code",
   "execution_count": null,
   "id": "a44e462c",
   "metadata": {},
   "outputs": [],
   "source": [
    "# Count the number of trajectories in the frame.\n",
    "print(f\"Number of unique trajectories: {gdf['track_fid'].nunique()}\")\n",
    "print(f\"Number of unique trajectories: {gdf['id'].nunique()}\")\n",
    "gdf.info()"
   ]
  },
  {
   "cell_type": "markdown",
   "id": "1a8d12b7",
   "metadata": {},
   "source": [
    "#### Preparazione dataframe scikit-mobility"
   ]
  },
  {
   "cell_type": "code",
   "execution_count": null,
   "id": "519a700e",
   "metadata": {},
   "outputs": [],
   "source": [
    "# Preparazione dataframe scikit-mobility\n",
    "tdf = skmob.TrajDataFrame(gdf, latitude='lat', longitude='long', datetime = 'time',\\\n",
    "                          user_id = 'id')\n",
    "tdf.head()"
   ]
  },
  {
   "cell_type": "code",
   "execution_count": null,
   "id": "e33637c7",
   "metadata": {},
   "outputs": [],
   "source": [
    "# Calcola la distanza percorsa da ogni traiettoria.\n",
    "from skmob.measures.individual import distance_straight_line\n",
    "md_df = distance_straight_line(tdf)\n",
    "md_df.rename(columns = {'uid' : 'id'}, inplace = True)\n",
    "\n",
    "# tdf.plot_trajectory(zoom=12, weight=3, opacity=0.9, tiles='Stamen Toner')"
   ]
  },
  {
   "cell_type": "markdown",
   "id": "5400cfc7",
   "metadata": {},
   "source": [
    "#### Analyses on the general characteristics of the trajectories"
   ]
  },
  {
   "cell_type": "code",
   "execution_count": null,
   "id": "8e82ce58",
   "metadata": {},
   "outputs": [],
   "source": [
    "gb = gdf.groupby('id')\n",
    "\n",
    "test = gb.agg({'time' : ['max', 'min'], 'id' : 'count', 'track_fid' : 'first'})\n",
    "test.columns = ['_'.join(col) for col in test.columns.values]\n",
    "test.info()\n",
    "\n",
    "test.rename(columns = {'id_count' : 'num_obs', 'track_fid_first' : 'user_id'}, inplace = True)\n",
    "\n",
    "# Calcola l'intervallo temporale coperto dalle traiettorie.\n",
    "test['time_span'] = (test['time_max'] - test['time_min'])\n",
    "\n",
    "# Calcola la frequenza delle osservazioni.\n",
    "test['update_rate'] = (test['time_span'] / test['num_obs'])\n",
    "\n",
    "# Ordina\n",
    "test.sort_values(by = 'update_rate', inplace = True, ascending = True)\n",
    "\n",
    "display(test.head(30))"
   ]
  },
  {
   "cell_type": "code",
   "execution_count": null,
   "id": "d7ea743a",
   "metadata": {},
   "outputs": [],
   "source": [
    "test.reset_index(inplace = True)\n",
    "test = test.merge(md_df, on = 'id', how = 'left')"
   ]
  },
  {
   "cell_type": "code",
   "execution_count": null,
   "id": "68519220",
   "metadata": {},
   "outputs": [],
   "source": [
    "test['speed'] = test['distance_straight_line'] / (test['time_span'] / pd.Timedelta('1h'))"
   ]
  },
  {
   "cell_type": "markdown",
   "id": "a6e2a259",
   "metadata": {},
   "source": [
    "##### Preliminary analysis on the duration of trajectories"
   ]
  },
  {
   "cell_type": "code",
   "execution_count": null,
   "id": "ca1915c2",
   "metadata": {},
   "outputs": [],
   "source": [
    "day = datetime.timedelta(days=1)\n",
    "lb = datetime.timedelta(minutes=30)\n",
    "\n",
    "print(f\"Numero totale traiettorie: {test.shape[0]}\")\n",
    "print(f\"Numero traiettorie con durata [30 min, 1 day]: {test[(test['time_span'] <= day) & (test['time_span'] >= lb)].shape[0]}\")\n",
    "print(f\"Numero traiettorie con durata > 1 day: {test[(test['time_span'] > day)].shape[0]}\")\n",
    "print(f\"Numero traiettorie con update rate medio <= 60 sec: {test[(test['update_rate'] <= datetime.timedelta(seconds=60))].shape[0]}\")\n",
    "print(f\"Numero traiettorie con piu' di 20 osservazioni: {test[(test['num_obs'] > 20)].shape[0]}\")\n",
    "\n",
    "mask = (test['time_span'] >= datetime.timedelta(minutes = 60 * 8)) & \\\n",
    "       (test['time_span'] <= datetime.timedelta(minutes = 60 * 24)) & \\\n",
    "       (test['update_rate'] <= datetime.timedelta(seconds = 60))\n",
    "final_dataset = test.loc[mask]\n",
    "print(f\"Traiettorie finali considerate: {final_dataset.shape[0]}\")\n",
    "display(final_dataset)"
   ]
  },
  {
   "cell_type": "markdown",
   "id": "8657995b",
   "metadata": {},
   "source": [
    "**REMARKS:** \n",
    "- there are a few very large trajectories that appear to contain distinct sub-trajectories. We could try the MovingPandas' splitter to extract these.\n",
    "- The vast majority of the trajectories have duration less than 30 minutes."
   ]
  },
  {
   "cell_type": "markdown",
   "id": "16e7b0e8",
   "metadata": {},
   "source": [
    "# Calcola e visualizza ulteriori statistiche con movingPandas + Folium"
   ]
  },
  {
   "cell_type": "raw",
   "id": "3f683faa",
   "metadata": {},
   "source": [
    "# For each trajectory find out the starting and ending locations\n",
    "origins = gb.first()\n",
    "destinations = gb.last()\n",
    "\n",
    "#display(origins)\n",
    "#display(destinations)"
   ]
  },
  {
   "cell_type": "markdown",
   "id": "5dc799a0",
   "metadata": {},
   "source": [
    "#### Plotting start locations"
   ]
  },
  {
   "cell_type": "raw",
   "id": "184847bd",
   "metadata": {},
   "source": [
    "import folium\n",
    "from folium import plugins\n",
    "from geopy.geocoders import Nominatim\n",
    "\n",
    "geolocator = Nominatim(user_agent = \"test\")\n",
    "loc = geolocator.geocode(\"Rome, Italy\").raw\n",
    "map_loc = folium.Map(location = (loc['lat'], loc['lon']), tiles='Cartodb dark_matter', zoom_start = 11)\n",
    "\n",
    "heat_data = np.column_stack([origins.geometry.y, origins.geometry.x])\n",
    "plugins.HeatMap(heat_data, radius = 1, blur = 1).add_to(map_loc)\n",
    "\n",
    "map_loc"
   ]
  },
  {
   "cell_type": "markdown",
   "id": "faf94b19",
   "metadata": {},
   "source": [
    "#### Plotting end locations"
   ]
  },
  {
   "cell_type": "raw",
   "id": "59ebc656",
   "metadata": {},
   "source": [
    "map_loc2 = folium.Map(location = (loc['lat'], loc['lon']), tiles='Cartodb dark_matter', zoom_start = 11)\n",
    "\n",
    "heat_data = np.column_stack([destinations.geometry.y, destinations.geometry.x])\n",
    "plugins.HeatMap(heat_data, radius = 1, blur = 1).add_to(map_loc2)\n",
    "\n",
    "map_loc2"
   ]
  },
  {
   "cell_type": "markdown",
   "id": "cd4844c7",
   "metadata": {},
   "source": [
    "#### Plot singola traiettoria"
   ]
  },
  {
   "cell_type": "code",
   "execution_count": null,
   "id": "29cf6b21",
   "metadata": {},
   "outputs": [],
   "source": [
    "# Codice MovingPandas\n",
    "#my_traj = traj_collection.trajectories[55]\n",
    "#print(my_traj.df)\n",
    "\n",
    "# my_traj.plot(column=\"speed\", linewidth=5, capstyle='round', legend=True)\n",
    "#my_traj.hvplot(geo=True, tiles='OSM', line_width=4, frame_width=1000, frame_height=600)"
   ]
  },
  {
   "cell_type": "markdown",
   "id": "9b0b7a4a",
   "metadata": {},
   "source": [
    "#### Salvataggio set finale traiettorie a disco. "
   ]
  },
  {
   "cell_type": "code",
   "execution_count": null,
   "id": "83c74ad0",
   "metadata": {},
   "outputs": [],
   "source": [
    "# tdf[tdf[\"uid\"] == 24637].plot_trajectory(zoom=15, weight=3, opacity=0.9, tiles='Stamen Toner')\n",
    "# gdf.loc[gdf[\"id\"] == 24637].to_parquet('trajectory.parquet')"
   ]
  },
  {
   "cell_type": "code",
   "execution_count": null,
   "id": "57586407",
   "metadata": {},
   "outputs": [],
   "source": [
    "out = gdf.loc[gdf['id'].isin(final_dataset['id'])]\n",
    "out.to_parquet('trajectory.parquet')"
   ]
  }
 ],
 "metadata": {
  "kernelspec": {
   "display_name": "Python 3 (ipykernel)",
   "language": "python",
   "name": "python3"
  },
  "language_info": {
   "codemirror_mode": {
    "name": "ipython",
    "version": 3
   },
   "file_extension": ".py",
   "mimetype": "text/x-python",
   "name": "python",
   "nbconvert_exporter": "python",
   "pygments_lexer": "ipython3",
   "version": "3.12.9"
  }
 },
 "nbformat": 4,
 "nbformat_minor": 5
}

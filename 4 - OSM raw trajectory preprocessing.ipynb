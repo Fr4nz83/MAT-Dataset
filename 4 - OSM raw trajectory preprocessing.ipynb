{
 "cells": [
  {
   "cell_type": "code",
   "execution_count": null,
   "id": "b56fd8f6",
   "metadata": {},
   "outputs": [],
   "source": [
    "import geopandas as gpd\n",
    "import pandas as pd\n",
    "import numpy as np\n",
    "import datetime\n",
    "\n",
    "import warnings\n",
    "warnings.simplefilter(\"ignore\")"
   ]
  },
  {
   "cell_type": "markdown",
   "id": "3eab3aeb",
   "metadata": {},
   "source": [
    "#### Setup global vars"
   ]
  },
  {
   "cell_type": "code",
   "execution_count": null,
   "id": "702ae679",
   "metadata": {},
   "outputs": [],
   "source": [
    "fname_paris = './paris_trajectories/paris_centre.processed.parquet'\n",
    "fname_nyc = './nyc_trajectories/nyc.processed.parquet'\n",
    "\n",
    "fname = fname_paris\n",
    "\n",
    "# Read the dataset.\n",
    "gdf = gpd.read_parquet(fname)"
   ]
  },
  {
   "cell_type": "markdown",
   "id": "642987d5",
   "metadata": {},
   "source": [
    "# Analysis part"
   ]
  },
  {
   "cell_type": "code",
   "execution_count": null,
   "id": "a44e462c",
   "metadata": {},
   "outputs": [],
   "source": [
    "# Count the number of trajectories in the frame.\n",
    "print(f\"Number of unique trajectories: {gdf['user'].nunique()}\")\n",
    "gdf.info()"
   ]
  },
  {
   "cell_type": "markdown",
   "id": "5400cfc7",
   "metadata": {},
   "source": [
    "#### Analyses on the general characteristics of the trajectories"
   ]
  },
  {
   "cell_type": "code",
   "execution_count": null,
   "id": "8e82ce58",
   "metadata": {},
   "outputs": [],
   "source": [
    "gb = gdf.groupby('user')\n",
    "\n",
    "test = gb.agg({'time' : ['max', 'min'], 'user' : 'count'})\n",
    "test.columns = ['_'.join(col) for col in test.columns.values]\n",
    "test.info()\n",
    "\n",
    "test.rename(columns = {'user_count' : 'num_obs', 'user_first' : 'user_id'}, inplace = True)\n",
    "\n",
    "# Calcola l'intervallo temporale coperto dalle traiettorie.\n",
    "test['time_span'] = (test['time_max'] - test['time_min'])\n",
    "\n",
    "# Calcola la frequenza delle osservazioni.\n",
    "test['update_rate'] = (test['time_span'] / test['num_obs'])\n",
    "\n",
    "display(test)"
   ]
  },
  {
   "cell_type": "markdown",
   "id": "a6e2a259",
   "metadata": {},
   "source": [
    "##### Preliminary analysis on the duration of trajectories"
   ]
  },
  {
   "cell_type": "code",
   "execution_count": null,
   "id": "ca1915c2",
   "metadata": {},
   "outputs": [],
   "source": [
    "day = datetime.timedelta(days=1)\n",
    "week = datetime.timedelta(days=7)\n",
    "month = datetime.timedelta(days=28)\n",
    "lb = datetime.timedelta(minutes=10)\n",
    "min_sampling_rate = datetime.timedelta(minutes=2)"
   ]
  },
  {
   "cell_type": "code",
   "execution_count": null,
   "id": "eccf27c3-edba-46b0-bde9-10c8bdbc4a66",
   "metadata": {},
   "outputs": [],
   "source": [
    "print(f\"Number of trajectories with duration >= {lb.seconds/60} min: {test[(test['time_span'] >= lb)].shape[0]}\")\n",
    "print(f\"Number of trajectories with duration >= 1 day: {test[(test['time_span'] >= day)].shape[0]}\")\n",
    "print(f\"Number of trajectories with duration >= 7 days: {test[(test['time_span'] >= week)].shape[0]}\")\n",
    "print(f\"Number of trajectories with duration >= 28 days: {test[(test['time_span'] >= month)].shape[0]}\")\n",
    "print(f\"Number of trajectories with average update rate <= {min_sampling_rate.seconds/60} min: {test[(test['update_rate'] <= min_sampling_rate)].shape[0]}\")\n",
    "# print(f\"Number of trajectories with more than 20 samples: {test[(test['num_obs'] > 20)].shape[0]}\")\n",
    "\n",
    "# Mask used to select the trajectories satisfying the chosen criteria.\n",
    "mask = (test['time_span'] >= lb) & \\\n",
    "       (test['update_rate'] <= min_sampling_rate)\n",
    "\n",
    "final_dataset = test.loc[mask]"
   ]
  },
  {
   "cell_type": "markdown",
   "id": "eec45cda-c89c-4c77-89d8-2fb150e8819e",
   "metadata": {},
   "source": [
    "### Print some statistics about the final dataset."
   ]
  },
  {
   "cell_type": "code",
   "execution_count": null,
   "id": "439daedb-d7d9-4899-a637-2aeea7c0f646",
   "metadata": {},
   "outputs": [],
   "source": [
    "print(f\"Initial number of trajectories: {test.shape[0]}\")\n",
    "print(f\"Final number of trajectories: {final_dataset.shape[0]}\")\n",
    "\n",
    "print(f\"Number of trajectories with duration >= {lb.seconds/60} min: {final_dataset[(final_dataset['time_span'] >= lb)].shape[0]}\")\n",
    "print(f\"Number of trajectories with duration >= 1 day: {final_dataset[(final_dataset['time_span'] >= day)].shape[0]}\")\n",
    "print(f\"Number of trajectories with duration >= 1 week: {final_dataset[(final_dataset['time_span'] >= week)].shape[0]}\")"
   ]
  },
  {
   "cell_type": "markdown",
   "id": "eb80f942-7118-4775-85b9-5183f5f174ea",
   "metadata": {},
   "source": [
    "### Save the preprocessed trajectory dataset"
   ]
  },
  {
   "cell_type": "code",
   "execution_count": null,
   "id": "fa26357a-4b22-495a-bdf0-c716ed912531",
   "metadata": {},
   "outputs": [],
   "source": [
    "final_gdf = gdf.loc[gdf['user'].isin(final_dataset.index)]\n",
    "final_gdf.to_parquet(f'{fname}.preprocessed.parquet')"
   ]
  }
 ],
 "metadata": {
  "kernelspec": {
   "display_name": "Python 3 (ipykernel)",
   "language": "python",
   "name": "python3"
  },
  "language_info": {
   "codemirror_mode": {
    "name": "ipython",
    "version": 3
   },
   "file_extension": ".py",
   "mimetype": "text/x-python",
   "name": "python",
   "nbconvert_exporter": "python",
   "pygments_lexer": "ipython3",
   "version": "3.12.9"
  }
 },
 "nbformat": 4,
 "nbformat_minor": 5
}

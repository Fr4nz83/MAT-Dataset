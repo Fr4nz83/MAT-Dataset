{
 "cells": [
  {
   "cell_type": "code",
   "execution_count": null,
   "id": "ac2d4237-db66-4aa9-b053-9a254a2ef716",
   "metadata": {},
   "outputs": [],
   "source": [
    "import pandas as pd\n",
    "import numpy as np"
   ]
  },
  {
   "cell_type": "markdown",
   "id": "f1067758-96e4-4810-89ed-f05434ba0e90",
   "metadata": {},
   "source": [
    "### Instantiate the social media dataset, and turn it into a social media post dataset that can be parsed by MAT-Builder."
   ]
  },
  {
   "cell_type": "code",
   "execution_count": null,
   "id": "25b5a253-5e2c-4585-8140-ec627ce7e55c",
   "metadata": {},
   "outputs": [],
   "source": [
    "city = 'paris'\n",
    "social_dataset = pd.read_parquet(f'./enriched_occasional_{city}_posts.parquet')\n",
    "display(social_dataset)\n",
    "social_dataset = social_dataset.loc[:, ['uid', 'datetime', 'leaving_datetime', 'positive', 'negative']]"
   ]
  },
  {
   "cell_type": "code",
   "execution_count": null,
   "id": "43db251e-a175-413d-b312-2147ebed2cad",
   "metadata": {},
   "outputs": [],
   "source": []
  },
  {
   "cell_type": "code",
   "execution_count": null,
   "id": "844a7f51-b101-4ff0-a94b-6ec1ed3da949",
   "metadata": {},
   "outputs": [],
   "source": [
    "social_rome = pd.read_parquet('./tweets_rome.parquet')\n",
    "display(social_rome.info())\n",
    "display(social_rome)"
   ]
  },
  {
   "cell_type": "code",
   "execution_count": null,
   "id": "ad30d471-d29a-4ec3-ba49-2a9203255b07",
   "metadata": {},
   "outputs": [],
   "source": []
  },
  {
   "cell_type": "markdown",
   "id": "62784e86-30fc-4a08-8e8b-ff609e28d2a3",
   "metadata": {},
   "source": [
    "### Create fictitious time instants for the social media posts, based on the time intervals spanned by the stops."
   ]
  },
  {
   "cell_type": "code",
   "execution_count": null,
   "id": "d4684ab9-7592-4925-95a5-b6929b827e92",
   "metadata": {},
   "outputs": [],
   "source": [
    "# Drop the columns that we don't need. \n",
    "social_dataset = social_dataset.loc[:, ['uid', 'datetime', 'leaving_datetime', 'positive', 'negative']]\n",
    "\n",
    "# For each stop, choose a random time instant within the time interval covered by the stop.\n",
    "start_int = social_dataset[\"datetime\"].astype(\"int64\")\n",
    "end_int   = social_dataset[\"leaving_datetime\"].astype(\"int64\")\n",
    "rand_ints = np.random.randint(low  = start_int.values,\n",
    "                              high = end_int.values,\n",
    "                              dtype = np.int64)\n",
    "social_dataset[\"tweet_created\"] = pd.to_datetime(rand_ints)\n",
    "display(social_dataset)"
   ]
  },
  {
   "cell_type": "markdown",
   "id": "351e6e4e-b7ed-4bbd-9aa2-5e3f9e58142d",
   "metadata": {},
   "source": [
    "### From the original social media dataset, for each stop choose either the positive or negative text given a probability $p$"
   ]
  },
  {
   "cell_type": "code",
   "execution_count": null,
   "id": "34a39806-268f-479c-bd7b-40461d4c5709",
   "metadata": {},
   "outputs": [],
   "source": [
    "p = 0.5\n",
    "mask = np.random.rand(len(social_dataset)) < p\n",
    "social_dataset[\"text\"] = np.where(mask, social_dataset[\"positive\"], social_dataset[\"negative\"])\n",
    "\n",
    "social_dataset.reset_index(names = 'tweet_id', inplace = True)\n",
    "social_dataset = social_dataset.loc[:, ['tweet_id', 'uid', 'tweet_created', 'text']]\n",
    "display(social_dataset)\n",
    "display(social_dataset.info())"
   ]
  },
  {
   "cell_type": "markdown",
   "id": "b52bcd38-6d27-40ac-b191-34a30cfa1836",
   "metadata": {},
   "source": [
    "### Write the social media post dataset for MAT-Builder to disk"
   ]
  },
  {
   "cell_type": "code",
   "execution_count": null,
   "id": "fcac4897-cc50-4913-adea-5dda9d64f4a9",
   "metadata": {},
   "outputs": [],
   "source": [
    "path_out = f'./tweets_{city}.parquet'\n",
    "social_dataset.to_parquet(path_out)"
   ]
  }
 ],
 "metadata": {
  "kernelspec": {
   "display_name": "Python 3 (ipykernel)",
   "language": "python",
   "name": "python3"
  },
  "language_info": {
   "codemirror_mode": {
    "name": "ipython",
    "version": 3
   },
   "file_extension": ".py",
   "mimetype": "text/x-python",
   "name": "python",
   "nbconvert_exporter": "python",
   "pygments_lexer": "ipython3",
   "version": "3.12.9"
  }
 },
 "nbformat": 4,
 "nbformat_minor": 5
}

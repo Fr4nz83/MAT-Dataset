{
 "cells": [
  {
   "cell_type": "code",
   "execution_count": null,
   "id": "cbf05598-d170-46c0-9a22-969a15d50b06",
   "metadata": {},
   "outputs": [],
   "source": [
    "import requests\n",
    "import os\n",
    "import concurrent.futures"
   ]
  },
  {
   "cell_type": "markdown",
   "id": "76a36ea7-d8b1-4482-a8a6-0ed391e71406",
   "metadata": {},
   "source": [
    "### Parallel batch-continuous version"
   ]
  },
  {
   "cell_type": "code",
   "execution_count": null,
   "id": "70e85afb-9c53-423a-991b-2a79686282c5",
   "metadata": {},
   "outputs": [],
   "source": [
    "def fetch_page(page):\n",
    "    url = f'{api_url}?bbox={bbox}&page={page}'\n",
    "    print(f'Sending HTTP request to {url}...')\n",
    "    response = requests.get(url)\n",
    "    return page, response"
   ]
  },
  {
   "cell_type": "code",
   "execution_count": null,
   "id": "862dbd22-5459-449b-867a-a9f78ed0dcdd",
   "metadata": {},
   "outputs": [],
   "source": [
    "# TODO: partition the overall bbox in smaller bboxes such that the API request will be accepted by OSM.\n",
    "# bbox_NY = '-74.259,40.477,-73.700,40.918' # Example: New York City bounding box\n",
    "bbox = '-74.25909,40.477399,-74.150181,40.516178'\n",
    "limit_deg = 0.25\n",
    "\n",
    "# OSM API endpoint for GPS trackpoints\n",
    "api_url = 'https://api.openstreetmap.org/api/0.6/trackpoints'\n",
    "\n",
    "# Directory to save the downloaded GPX files\n",
    "output_dir = 'gpx_traces'\n",
    "os.makedirs(output_dir, exist_ok=True)\n",
    "\n",
    "max_workers = 24\n",
    "with concurrent.futures.ThreadPoolExecutor(max_workers=max_workers) as executor:\n",
    "    next_page = 0\n",
    "    # Submit an initial batch of tasks equal to max_workers\n",
    "    future_to_page = {executor.submit(fetch_page, p): p for p in range(next_page, next_page + max_workers)}\n",
    "    next_page += max_workers\n",
    "    keep_going = True\n",
    "    while future_to_page:\n",
    "        # Iterate over completed futures\n",
    "        for future in concurrent.futures.as_completed(list(future_to_page.keys())):\n",
    "            p, response = future.result()\n",
    "            if response.status_code == 200 and '<trkpt' in response.text:\n",
    "                gpx_filename = os.path.join(output_dir, f'trackpoints_page_{p}.gpx')\n",
    "                with open(gpx_filename, 'w', encoding='utf-8') as file:\n",
    "                    file.write(response.text)\n",
    "                print(f'Saved: {gpx_filename}')\n",
    "                \n",
    "                # Submit a new task to keep the pool full.\n",
    "                future_to_page[executor.submit(fetch_page, next_page)] = next_page\n",
    "                next_page += 1\n",
    "            else:\n",
    "                print(f'No more GPX data available for page {p}.')\n",
    "                keep_going = False\n",
    "                \n",
    "            # Remove the completed future from the dictionary.\n",
    "            del future_to_page[future]"
   ]
  }
 ],
 "metadata": {
  "kernelspec": {
   "display_name": "Python 3 (ipykernel)",
   "language": "python",
   "name": "python3"
  },
  "language_info": {
   "codemirror_mode": {
    "name": "ipython",
    "version": 3
   },
   "file_extension": ".py",
   "mimetype": "text/x-python",
   "name": "python",
   "nbconvert_exporter": "python",
   "pygments_lexer": "ipython3",
   "version": "3.12.3"
  }
 },
 "nbformat": 4,
 "nbformat_minor": 5
}
